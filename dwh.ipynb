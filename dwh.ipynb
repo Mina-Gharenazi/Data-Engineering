{
 "cells": [
  {
   "metadata": {
    "ExecuteTime": {
     "end_time": "2025-05-12T08:13:39.588234Z",
     "start_time": "2025-05-12T08:13:39.431328Z"
    }
   },
   "cell_type": "code",
   "source": [
    "from operator import concat\n",
    "\n",
    "# create a connection\n",
    "import psycopg2\n",
    "conn=psycopg2.connect(database=\"dwh_db\",\n",
    "                      user=\"postgres\",\n",
    "                      password=\"<PASSWORD>\",\n",
    "                      host=\"localhost\",\n",
    "                      port=\"5432\")\n"
   ],
   "id": "fbc121e30a2defb3",
   "outputs": [],
   "execution_count": 188
  },
  {
   "metadata": {},
   "cell_type": "markdown",
   "source": "# Table Creation",
   "id": "cf19988870168b9b"
  },
  {
   "metadata": {
    "ExecuteTime": {
     "end_time": "2025-05-10T13:35:22.488565Z",
     "start_time": "2025-05-10T13:35:22.377510Z"
    }
   },
   "cell_type": "code",
   "source": [
    "conn.rollback()\n",
    "\n",
    "# Open a cursor to perform database operations\n",
    "cur = conn.cursor()\n",
    "\n",
    "# University\n",
    "cur.execute(\"\"\"create table dim_university(\n",
    "               uni_key serial primary key,\n",
    "                uni_id varchar unique,\n",
    "                name varchar,\n",
    "                state varchar,\n",
    "                city varchar,\n",
    "                street varchar,\n",
    "                zip varchar\n",
    "                )\n",
    "                \"\"\")\n",
    "\n",
    "#department\n",
    "cur.execute(\"\"\"create table dim_department(\n",
    "                dept_key serial primary key,\n",
    "                dept_code varchar unique,\n",
    "                uni_key integer not null references dim_university(uni_key)\n",
    "                )\n",
    "                \"\"\")\n",
    "\n",
    "#lecturer\n",
    "cur.execute(\"\"\"create table dim_lecturer(\n",
    "               lecturer_key serial primary key,\n",
    "                lecturer_id varchar unique,\n",
    "                lecturer_name varchar,\n",
    "                lecturer_dept integer not null references dim_department(dept_key),\n",
    "                rank varchar,\n",
    "                title varchar)\n",
    "                \"\"\")\n",
    "\n",
    "#Study Plan\n",
    "cur.execute(\"\"\"create table dim_study_plan(\n",
    "                sp_key serial primary key,\n",
    "                sp_title varchar,\n",
    "                sp_code integer unique,\n",
    "                sp_type varchar,\n",
    "                branch varchar\n",
    "                )\n",
    "                \"\"\")\n",
    "\n",
    "# Students\n",
    "cur.execute(\"\"\"create table dim_student if not exists(\n",
    "                student_key serial primary key,\n",
    "                student_matno varchar unique,\n",
    "                student_name varchar,\n",
    "                sp_key integer not null references dim_study_plan(sp_key)\n",
    "                )\n",
    "                \"\"\")\n",
    "\n",
    "#date\n",
    "cur.execute(\"\"\"create table dim_date(\n",
    "                date_key date primary key,\n",
    "                 day integer not null,\n",
    "                 month integer not null,\n",
    "                 semester varchar not null,\n",
    "                 year integer not null)\n",
    "                \"\"\")\n",
    "\n",
    "#course\n",
    "cur.execute(\"\"\"CREATE TABLE dim_course(\n",
    "            course_key serial primary key,\n",
    "            course_id varchar unique,\n",
    "            course_type varchar,\n",
    "            ects integer,\n",
    "            lecturer_key integer not null references dim_lecturer(lecturer_key),\n",
    "            level varchar,\n",
    "            department_key integer not null references dim_department(dept_key)\n",
    "            );\n",
    "            \"\"\")\n",
    "\n",
    "\n",
    "#grades\n",
    "cur.execute(\"\"\"create table fact_grades(\n",
    "                grade_key serial primary key,\n",
    "                course_key integer not null references dim_course(course_key),\n",
    "                lecturer_key integer not null references dim_lecturer(lecturer_key),\n",
    "                date_key date not null references dim_date(date_key),\n",
    "                grades numeric,\n",
    "                student_key integer not null references dim_student(student_key)\n",
    "                )\n",
    "                \"\"\")\n",
    "# Make the changes to the database persistent\n",
    "conn.commit()\n",
    "# Close cursor and communication with the database\n",
    "cur.close()\n",
    "conn.close()"
   ],
   "id": "83aa1027ecb0f03c",
   "outputs": [],
   "execution_count": 4
  },
  {
   "metadata": {
    "ExecuteTime": {
     "end_time": "2025-05-11T12:13:39.740868Z",
     "start_time": "2025-05-11T12:13:39.726435Z"
    }
   },
   "cell_type": "code",
   "source": [
    "cur=conn.cursor()\n",
    "conn.rollback()\n",
    "cur.execute(\"\"\"alter table dim_student\n",
    "add column matno   VARCHAR UNIQUE\"\"\")\n",
    "\n",
    "conn.commit()\n",
    "# Close cursor and communication with the database\n",
    "cur.close()\n",
    "conn.close()\n"
   ],
   "id": "48afebb57d048463",
   "outputs": [],
   "execution_count": 99
  },
  {
   "metadata": {
    "ExecuteTime": {
     "end_time": "2025-05-11T13:43:16.759987Z",
     "start_time": "2025-05-11T13:43:16.738940Z"
    }
   },
   "cell_type": "code",
   "source": [
    "cur=conn.cursor()\n",
    "conn.rollback()\n",
    "cur.execute(\"\"\"alter table dim_course\n",
    "add column course_title   VARCHAR UNIQUE\"\"\")\n",
    "\n",
    "conn.commit()\n",
    "# Close cursor and communication with the database\n",
    "cur.close()"
   ],
   "id": "ff3cb93a347554d2",
   "outputs": [],
   "execution_count": 118
  },
  {
   "metadata": {
    "ExecuteTime": {
     "end_time": "2025-05-11T14:17:39.262427Z",
     "start_time": "2025-05-11T14:17:39.231398Z"
    }
   },
   "cell_type": "code",
   "source": [
    "cur=conn.cursor()\n",
    "conn.rollback()\n",
    "cur.execute(\"\"\"\n",
    "ALTER TABLE fact_grades\n",
    "  DROP COLUMN IF EXISTS passed,\n",
    "  ALTER COLUMN grades TYPE VARCHAR USING grades::VARCHAR,\n",
    "  ALTER COLUMN grades DROP NOT NULL;\n",
    "\"\"\")\n",
    "\n",
    "conn.commit()\n",
    "# Close cursor and communication with the database\n",
    "cur.close()"
   ],
   "id": "5b5bee4abd31a687",
   "outputs": [],
   "execution_count": 131
  },
  {
   "metadata": {
    "ExecuteTime": {
     "end_time": "2025-05-11T16:01:20.647007Z",
     "start_time": "2025-05-11T16:01:20.575289Z"
    }
   },
   "cell_type": "code",
   "source": [
    "with conn.cursor() as cur:\n",
    "    # Convert all “failed” strings into the text “5”\n",
    "    cur.execute(\"\"\"\n",
    "        update fact_grades\n",
    "           SET grades = '5'\n",
    "         WHERE grades = 'failed';\n",
    "    \"\"\")\n",
    "\n",
    "conn.commit()\n"
   ],
   "id": "39d5a6388d0164d2",
   "outputs": [],
   "execution_count": 155
  },
  {
   "metadata": {
    "ExecuteTime": {
     "end_time": "2025-05-11T20:52:43.463890Z",
     "start_time": "2025-05-11T20:52:43.409280Z"
    }
   },
   "cell_type": "code",
   "source": [
    "with conn.cursor() as cur:\n",
    "    cur.execute(\"\"\"\n",
    "    ALTER TABLE fact_grades\n",
    "  ALTER COLUMN grades\n",
    "    TYPE NUMERIC\n",
    "    USING grades::NUMERIC;     -- cast the existing text to numbers\n",
    "\n",
    "    \"\"\")\n",
    "\n",
    "conn.commit()"
   ],
   "id": "c6ca6bfec906e3b9",
   "outputs": [],
   "execution_count": 179
  },
  {
   "metadata": {},
   "cell_type": "markdown",
   "source": "# Data frame creation for inserting to tables",
   "id": "1a4cf269f49c567"
  },
  {
   "metadata": {
    "ExecuteTime": {
     "end_time": "2025-05-10T16:45:28.182087Z",
     "start_time": "2025-05-10T16:45:28.127349Z"
    }
   },
   "cell_type": "code",
   "source": [
    "import json\n",
    "import pandas as pd\n",
    "import re"
   ],
   "id": "ad6a2c2265952d32",
   "outputs": [],
   "execution_count": 18
  },
  {
   "metadata": {},
   "cell_type": "markdown",
   "source": [
    "**from the aau_metadata.json, we build the pandas dataframes for:**\n",
    "* university info\n",
    "* Study plans\n",
    "* Lecturers"
   ],
   "id": "50f723262e7c238a"
  },
  {
   "metadata": {
    "ExecuteTime": {
     "end_time": "2025-05-11T10:58:46.735908Z",
     "start_time": "2025-05-11T10:58:46.694753Z"
    }
   },
   "cell_type": "code",
   "source": [
    "#university and study plans and Lecturer\n",
    "\n",
    "\n",
    "with open(\"aau_metadata.json\") as f:\n",
    "    data=json.load(f)\n",
    "\n",
    "uni_info = {\n",
    "    \"uni_id\": data[\"id\"],\n",
    "    \"name\": data[\"name\"],\n",
    "    \"state\": data[\"state\"],\n",
    "    \"city\": data[\"city\"],\n",
    "    \"street\": data[\"street\"],\n",
    "    \"zip\": data[\"zip\"]\n",
    "}\n",
    "\n",
    "#university data frame\n",
    "df_university=pd.DataFrame([uni_info])\n",
    "\n",
    "\n",
    "# study plan data frame\n",
    "df_bachelor_sp=pd.DataFrame(data[\"bachelor_study_plans\"])\n",
    "df_bachelor_sp[\"type\"]=\"bachelor\"\n",
    "df_master_sp=pd.DataFrame(data[\"master_study_plans\"])\n",
    "df_master_sp[\"type\"]=\"master\"\n",
    "df_sp=pd.concat([df_bachelor_sp,df_master_sp],ignore_index=True)\n",
    "\n",
    "\n",
    "# print(df_sp)\n",
    "# lecturers\n",
    "df_lecturer=pd.DataFrame(data[\"lecturers\"])\n"
   ],
   "id": "39f2641fcf00d55f",
   "outputs": [
    {
     "name": "stdout",
     "output_type": "stream",
     "text": [
      "    id                   name             branch      type\n",
      "0  511  Angewandte Informatik  Technical Studies  bachelor\n",
      "1  522  Wirtschaftsinformatik         Economoics  bachelor\n",
      "2  922  Wirtschaftsinformatik          Economics    master\n",
      "3  911  Angewandte Informatik  Technical Studies    master\n"
     ]
    }
   ],
   "execution_count": 67
  },
  {
   "metadata": {},
   "cell_type": "markdown",
   "source": [
    "**Lectureres Data Cleaning to build:**\n",
    "* rank\n",
    "* title\n",
    "* name of lecturers"
   ],
   "id": "7f418dfca584dd03"
  },
  {
   "metadata": {
    "ExecuteTime": {
     "end_time": "2025-05-11T09:15:27.548280Z",
     "start_time": "2025-05-11T09:15:27.518590Z"
    }
   },
   "cell_type": "code",
   "source": [
    "# lecturer data cleaning\n",
    "\n",
    "# lookup tables\n",
    "RANKS = {\n",
    "  \"O.Univ.-Prof.\":     \"Full Professor\",\n",
    "  \"Assoc.-Prof.\":      \"Associate Professor\",\n",
    "  \"Assoc.Prof.\":       \"Associate Professor\",\n",
    "  \"Postdoc-Ass.\":      \"Postdoc Assistant\",\n",
    "  # we can add to this dic\n",
    "}\n",
    "\n",
    "TITLES = {\n",
    "  \"Dipl.-Ing.\": \"DI\",\n",
    "  \"Dr.\":        \"Dr\",\n",
    "  \"DI.\":        \"DI\",\n",
    " # we can add to this dic\n",
    "}\n",
    "\n",
    "def lecturer_extraction(st):\n",
    "    tokens = st.split()\n",
    "    rank = None\n",
    "    # ranks\n",
    "    for length in (2, 1):\n",
    "        candidate = \" \".join(tokens[:length])\n",
    "        if candidate in RANKS:\n",
    "            rank = RANKS[candidate]\n",
    "            tokens = tokens[length:]\n",
    "            break\n",
    "\n",
    "    # titles\n",
    "    titles = []\n",
    "    while tokens and tokens[0] in TITLES:\n",
    "        titles.append(TITLES[tokens.pop(0)])\n",
    "\n",
    "    #remaining  are the name\n",
    "    name = \" \".join(tokens)\n",
    "\n",
    "    return {\"name\": name, \"rank\": rank, \"titles\": titles}\n",
    "\n",
    "\n",
    "for idx, row in df_lecturer.iterrows():\n",
    "    s = lecturer_extraction(row[\"name\"])\n",
    "    # write back only that one row\n",
    "    df_lecturer.at[idx, \"parsed_name\"] = s[\"name\"]\n",
    "    df_lecturer.at[idx, \"rank\"]        = s[\"rank\"]\n",
    "    df_lecturer.at[idx, \"titles\"]      = \", \".join(s[\"titles\"])\n",
    "\n",
    "print(df_lecturer)"
   ],
   "id": "4ba8355a3bb463e",
   "outputs": [
    {
     "name": "stdout",
     "output_type": "stream",
     "text": [
      "           id                                         name department  \\\n",
      "0    36866626  Assoc.Prof. Dipl.-Ing. Dr. Klaus Schöffmann       ITEC   \n",
      "1  2077308266              Postdoc-Ass. Dr. Dragi Kimovski       ITEC   \n",
      "2   834107405    O.Univ.-Prof. Dipl.-Ing. Dr. Johann Eder        ISYS   \n",
      "3   772243224            Assoc.-Prof. DI. Dr. Julius Köpke       ISYS   \n",
      "\n",
      "        parsed_name                 rank  titles  \n",
      "0  Klaus Schöffmann  Associate Professor  DI, Dr  \n",
      "1    Dragi Kimovski    Postdoc Assistant      Dr  \n",
      "2       Johann Eder       Full Professor  DI, Dr  \n",
      "3      Julius Köpke  Associate Professor  DI, Dr  \n"
     ]
    }
   ],
   "execution_count": 57
  },
  {
   "metadata": {},
   "cell_type": "markdown",
   "source": [
    "**from the aau_courses.json we build the below data frames:**\n",
    "* courses\n",
    "* departments"
   ],
   "id": "e0ee34f3e237ec37"
  },
  {
   "metadata": {
    "ExecuteTime": {
     "end_time": "2025-05-11T13:45:30.947686Z",
     "start_time": "2025-05-11T13:45:30.923936Z"
    }
   },
   "cell_type": "code",
   "source": [
    "# courses and departments df building\n",
    "with open(\"aau_corses.json\") as f:\n",
    "    data=json.load(f)\n",
    "\n",
    "#courses\n",
    "df_bachelor=pd.DataFrame(data[\"bachelor\"])\n",
    "df_bachelor[\"level\"]=\"bachelor\"\n",
    "df_master=pd.DataFrame(data[\"master\"])\n",
    "df_master[\"level\"]=\"master\"\n",
    "df_courses=(pd.concat([df_bachelor,df_master],ignore_index=True))\n",
    "\n",
    "#departments\n",
    "dept_from_courses=set(df_courses[\"department\"].unique())\n",
    "dept_from_lecturer=set(df_lecturer[\"department\"].unique())\n",
    "all_dept=sorted(dept_from_courses.union(dept_from_lecturer))\n",
    "df_dept=pd.DataFrame({\"department\":all_dept})\n",
    "\n",
    "\n",
    "print(df_courses)"
   ],
   "id": "3194e911ba8361c2",
   "outputs": [
    {
     "name": "stdout",
     "output_type": "stream",
     "text": [
      "        id                                              title type  \\\n",
      "0  620.220  Einführung in die strukturierte und objektbasi...   VO   \n",
      "1  621.900                                   Web-Technologien   VO   \n",
      "2  620.050                                        Datenbanken   VO   \n",
      "3  620.055                               Datenbanktechnologie   UE   \n",
      "4  623.254  Current Topics in Information Systems Engineering   VC   \n",
      "5  624.002  Privatissimum für Diplomand/inn/en und Dissert...   PV   \n",
      "6  623.250                                   Interoperability   VC   \n",
      "7  623.500                                   Data Engineering   VC   \n",
      "8  623.502              Distributed Computing Infrastructures   VC   \n",
      "9  623.252                                Process Engineering   VC   \n",
      "\n",
      "     lecturer ECTS department     level  \n",
      "0    36866626    2       ITEC  bachelor  \n",
      "1   772243224    2       ISYS  bachelor  \n",
      "2   772243224    2       ISYS  bachelor  \n",
      "3   772243224    2       ISYS  bachelor  \n",
      "4   772243224    3       AICS    master  \n",
      "5   772243224    1       ISYS    master  \n",
      "6   772243224    4       ISYS    master  \n",
      "7   772243224    4       ISYS    master  \n",
      "8  2077308266    4       ITEC    master  \n",
      "9   834107405    2       ISYS    master  \n"
     ]
    }
   ],
   "execution_count": 119
  },
  {
   "metadata": {},
   "cell_type": "markdown",
   "source": [
    "***from ....result.json files, we build these data frames:***\n",
    "* students\n",
    "* grades\n",
    "* dates (exam times)\n"
   ],
   "id": "bd3b57e59a96d88f"
  },
  {
   "metadata": {
    "ExecuteTime": {
     "end_time": "2025-05-11T16:22:00.495143Z",
     "start_time": "2025-05-11T16:22:00.371203Z"
    }
   },
   "cell_type": "code",
   "source": [
    "# students and time and grades df building\n",
    "\n",
    "import re\n",
    "\n",
    "def normalize_time(s):\n",
    "    \"\"\"\n",
    "    If s is just “YYYY” (4 digits), return “YYYY-01-01”;\n",
    "    otherwise leave it unchanged.\n",
    "    \"\"\"\n",
    "    if re.fullmatch(r\"\\d{4}\", s):\n",
    "        return f\"{s}-02-01\"\n",
    "    return s\n",
    "\n",
    "\n",
    "dfs=[]\n",
    "dates=[]\n",
    "exam_dfs=[]\n",
    "filenames=[\"blockchains_bpm\",\"data_engineering\",\"datenbaken\",\"esop\",\"interop\",\"parallel\",\"process_engineering\",\"webtech\"]\n",
    "\n",
    "for name in filenames:\n",
    "    with open(f\"resultlist_{name}.json\") as f:\n",
    "        data=json.load(f)\n",
    "\n",
    "    #student‐result list\n",
    "    df=pd.DataFrame(data[\"results\"])\n",
    "\n",
    "    #students\n",
    "    df_s = df[[\"matno\", \"name\", \"studyplan\"]]\n",
    "    dfs.append(df_s)\n",
    "\n",
    "    #date\n",
    "    dates.append(normalize_time(data[\"date\"]))\n",
    "\n",
    "    #grades\n",
    "    df[\"course_id\"]   = data[\"course\"]\n",
    "    df[\"lecturer_id\"] = data[\"examinator\"]\n",
    "    df[\"exam_date\"]   = normalize_time(data[\"date\"])\n",
    "    exam_dfs.append(df)\n",
    "\n",
    "\n",
    "\n",
    "\n",
    "## in files \"resultlist_interop\" and \"resultlist_webtech\" json syntax is broken. A missing colon (\"key\" \"value\" instead of \"key\": \"value\")\n",
    "#students\n",
    "student_df= pd.concat(dfs, ignore_index=True)\n",
    "student_df.drop_duplicates(subset=\"matno\", inplace=True)\n",
    "\n",
    "#grades\n",
    "grade_df= pd.concat(exam_dfs, ignore_index=True)\n",
    "# replace \"failed\" with \"5\" in the same column:\n",
    "grade_df['grade'] = grade_df['grade'].replace({'failed': '5'})\n",
    "\n",
    "# convert that column to numbers in‐place (non‐digits become NaN):\n",
    "grade_df['grade'] = pd.to_numeric(grade_df['grade'], errors='coerce')\n",
    "\n",
    "\n",
    "#dates\n",
    "date_df = pd.DataFrame({\"exam_date\": dates})\n",
    "date_df[\"exam_date\"] = pd.to_datetime(date_df[\"exam_date\"])\n",
    "date_df = date_df.drop_duplicates().sort_values(\"exam_date\")\n",
    "\n",
    "date_dim = pd.DataFrame({\n",
    "    \"date_key\": date_df[\"exam_date\"].dt.date,\n",
    "    \"day\":      date_df[\"exam_date\"].dt.day,\n",
    "    \"month\":    date_df[\"exam_date\"].dt.month,\n",
    "    \"year\":     date_df[\"exam_date\"].dt.year,\n",
    "})\n",
    "# define your semester logic however you like:\n",
    "date_dim[\"semester\"] = date_dim[\"month\"].apply(\n",
    "    lambda m: \"S1\" if m <= 6 else \"S2\"\n",
    ")\n",
    "\n",
    "print(grade_df)"
   ],
   "id": "364c092bb977b36a",
   "outputs": [
    {
     "name": "stdout",
     "output_type": "stream",
     "text": [
      "       matno              name  grade studyplan course_id lecturer_id  \\\n",
      "0    9000078         Sara Groß    2.0       911   623.254   772243224   \n",
      "1    9000079       Lara Seidel    1.0       922   623.254   772243224   \n",
      "2    9000082        Sofie Haas    3.0       911   623.254   772243224   \n",
      "3    9000083  Sophia Schreiber    2.0       922   623.254   772243224   \n",
      "4    9000086     Nele Dietrich    2.0       911   623.254   772243224   \n",
      "..       ...               ...    ...       ...       ...         ...   \n",
      "283  9000092        Amely Horn    5.0       511   621.900   772243224   \n",
      "284  9000093        Leon Busch    2.0       522   621.900   772243224   \n",
      "285  9000096       Jonas Voigt    3.0       511   621.900   772243224   \n",
      "286  9000097        Luca Sauer    4.0       522   621.900   772243224   \n",
      "287  9000100    Felix Pfeiffer    5.0       511   621.900   772243224   \n",
      "\n",
      "      exam_date  \n",
      "0    2022-06-24  \n",
      "1    2022-06-24  \n",
      "2    2022-06-24  \n",
      "3    2022-06-24  \n",
      "4    2022-06-24  \n",
      "..          ...  \n",
      "283  2024-01-25  \n",
      "284  2024-01-25  \n",
      "285  2024-01-25  \n",
      "286  2024-01-25  \n",
      "287  2024-01-25  \n",
      "\n",
      "[288 rows x 7 columns]\n"
     ]
    }
   ],
   "execution_count": 158
  },
  {
   "metadata": {},
   "cell_type": "markdown",
   "source": [
    "# Dataframes insertion to tables of DB\n",
    "Load tables in “dependency order\", first those without any FKs\n"
   ],
   "id": "34918fb0a2c26623"
  },
  {
   "metadata": {
    "ExecuteTime": {
     "end_time": "2025-05-10T17:12:47.458600Z",
     "start_time": "2025-05-10T17:12:47.417317Z"
    }
   },
   "cell_type": "code",
   "outputs": [],
   "execution_count": 35,
   "source": [
    "# University table inserting\n",
    "conn.rollback()\n",
    "with conn.cursor() as cur:\n",
    "    for _,row in df_university.iterrows():\n",
    "        cur.execute(\"insert into dim_university(uni_id,name, state, city,street, zip) values (%s,%s,%s,%s,%s,%s) on conflict (uni_id) do nothing\",\n",
    "                    (row[\"uni_id\"],\n",
    "                     row[\"name\"],\n",
    "                     row[\"state\"],\n",
    "                     row[\"city\"],\n",
    "                     row[\"street\"],\n",
    "                     row[\"zip\"])\n",
    "                    )\n",
    "conn.commit()"
   ],
   "id": "ad08ab3064a6df9f"
  },
  {
   "metadata": {
    "ExecuteTime": {
     "end_time": "2025-05-11T08:18:35.144245Z",
     "start_time": "2025-05-11T08:18:34.966140Z"
    }
   },
   "cell_type": "code",
   "source": [
    "# department\n",
    "with conn.cursor() as cur:\n",
    "    for _,row in df_dept.iterrows():\n",
    "        cur.execute(\"\"\"insert into dim_department(dept_code,uni_key)\n",
    "                        values (%s,\n",
    "                        (select uni_key from dim_university where uni_id=%s)\n",
    "                                )\n",
    "                        on conflict (dept_code) do nothing\"\"\",\n",
    "                    (row[\"dept_code\"],df_university[\"uni_id\"].iat[0]))\n",
    "conn.commit()"
   ],
   "id": "1566f965bd4fcab",
   "outputs": [],
   "execution_count": 44
  },
  {
   "metadata": {
    "ExecuteTime": {
     "end_time": "2025-05-11T09:34:51.819099Z",
     "start_time": "2025-05-11T09:34:51.713918Z"
    }
   },
   "cell_type": "code",
   "source": [
    "# lecturer\n",
    "conn.rollback()\n",
    "with conn.cursor() as cur:\n",
    "    for _,row in df_lecturer.iterrows():\n",
    "        cur.execute(\"\"\"insert into dim_lecturer(lecturer_id, lecturer_name, lecturer_dept,rank,title)\n",
    "         values (%s,\n",
    "         %s,\n",
    "         (select dept_key from dim_department where dept_code=%s),\n",
    "         %s,\n",
    "         %s)\n",
    "         on conflict (lecturer_id) do nothing\"\"\",\n",
    "        (\n",
    "        row[\"id\"],\n",
    "        row[\"parsed_name\"],\n",
    "        row[\"department\"],\n",
    "        row[\"rank\"],\n",
    "        row[\"titles\"]\n",
    "        )\n",
    "                    )\n",
    "conn.commit()"
   ],
   "id": "f8196ffef205c444",
   "outputs": [],
   "execution_count": 63
  },
  {
   "metadata": {
    "ExecuteTime": {
     "end_time": "2025-05-11T11:08:22.622416Z",
     "start_time": "2025-05-11T11:08:22.587014Z"
    }
   },
   "cell_type": "code",
   "source": [
    "# study plans insertion\n",
    "conn.rollback()\n",
    "with conn.cursor() as cur:\n",
    "    for _,row in df_sp.iterrows():\n",
    "        cur.execute(\"\"\"\n",
    "        insert into dim_study_plan(sp_title,sp_code,sp_type,branch)\n",
    "        values (%s,%s,%s,%s)\n",
    "        on conflict(sp_code) do nothing\n",
    "        \"\"\" ,\n",
    "        (\n",
    "            row[\"name\"],\n",
    "            row[\"id\"],\n",
    "            row[\"type\"],\n",
    "            row[\"branch\"]\n",
    "        )\n",
    "        )\n",
    "conn.commit()"
   ],
   "id": "5dd897c2953dbf52",
   "outputs": [],
   "execution_count": 69
  },
  {
   "metadata": {
    "ExecuteTime": {
     "end_time": "2025-05-11T12:17:20.961971Z",
     "start_time": "2025-05-11T12:17:20.854802Z"
    }
   },
   "cell_type": "code",
   "source": [
    "# student\n",
    "conn.rollback()\n",
    "with conn.cursor() as cur:\n",
    "    for _,row in student_df.iterrows():\n",
    "        cur.execute(\n",
    "            \"\"\"\n",
    "            insert into dim_student(student_name,sp_key,matno)\n",
    "            values (%s,\n",
    "                    (select sp_key from dim_study_plan where sp_code=%s),\n",
    "                    %s\n",
    "                    )\"\"\",\n",
    "            (\n",
    "            row[\"name\"],\n",
    "            row[\"studyplan\"],\n",
    "            row[\"matno\"]\n",
    "            )\n",
    "        )\n",
    "conn.commit()"
   ],
   "id": "b823450d15f3d4f9",
   "outputs": [],
   "execution_count": 104
  },
  {
   "metadata": {
    "ExecuteTime": {
     "end_time": "2025-05-11T13:35:41.132488Z",
     "start_time": "2025-05-11T13:35:41.102098Z"
    }
   },
   "cell_type": "code",
   "source": [
    "# date\n",
    "conn.rollback()\n",
    "with conn.cursor() as cur:\n",
    "    for _,row in date_dim.iterrows():\n",
    "        cur.execute(\"\"\"\n",
    "        insert into dim_date(date_key,day,month,semester,year)\n",
    "        values (%s,%s,%s,%s,%s)\n",
    "        \"\"\",\n",
    "        (\n",
    "            row[\"date_key\"],\n",
    "            row[\"day\"],\n",
    "            row[\"month\"],\n",
    "            row[\"semester\"],\n",
    "            row[\"year\"]\n",
    "        )\n",
    "                    )\n",
    "conn.commit()"
   ],
   "id": "68dae9b4595b8598",
   "outputs": [],
   "execution_count": 115
  },
  {
   "metadata": {
    "ExecuteTime": {
     "end_time": "2025-05-11T13:52:34.504896Z",
     "start_time": "2025-05-11T13:52:34.467739Z"
    }
   },
   "cell_type": "code",
   "source": [
    "#course\n",
    "conn.rollback()\n",
    "with conn.cursor() as cur:\n",
    "    for _,row in df_courses.iterrows():\n",
    "        cur.execute(\"\"\"insert into dim_course(course_id,course_type, ects, lecturer_key,level,department_key,course_title)\n",
    "        values\n",
    "        (\n",
    "        %s,\n",
    "        %s,\n",
    "        %s,\n",
    "        (select lecturer_key from dim_lecturer where lecturer_id=%s),\n",
    "        %s,\n",
    "        (select dept_key from dim_department where dept_code=%s ),\n",
    "        %s) on conflict (course_id) do nothing \"\"\",\n",
    "                    (row[\"id\"],\n",
    "                     row[\"type\"],\n",
    "                     row[\"ECTS\"],\n",
    "                     row[\"lecturer\"],\n",
    "                     row[\"level\"],\n",
    "                     row[\"department\"],\n",
    "                     row[\"title\"]))\n",
    "conn.commit()"
   ],
   "id": "175c5f1ef4394a1a",
   "outputs": [],
   "execution_count": 123
  },
  {
   "metadata": {
    "ExecuteTime": {
     "end_time": "2025-05-11T16:34:22.138302Z",
     "start_time": "2025-05-11T16:34:22.030053Z"
    }
   },
   "cell_type": "code",
   "source": [
    "#grades\n",
    "conn.rollback()\n",
    "with conn.cursor() as cur:\n",
    "    for _,row in grade_df.iterrows():\n",
    "        cur.execute(\"\"\"\n",
    "        insert into fact_grades(course_key,lecturer_key,date_key,grades,student_key)\n",
    "        values (\n",
    "                (select course_key from dim_course where course_id=%s),\n",
    "                (select lecturer_key from dim_lecturer where lecturer_id=%s),\n",
    "                (select date_key from dim_date where date_key=%s),\n",
    "                %s,\n",
    "                (select student_key from dim_student where matno=%s))\n",
    "                \"\"\",\n",
    "             (\n",
    "                 row[\"course_id\"],\n",
    "                 row[\"lecturer_id\"],\n",
    "                 row[\"exam_date\"],\n",
    "                 row[\"grade\"],\n",
    "                 row[\"matno\"]\n",
    "             ))\n",
    "conn.commit()"
   ],
   "id": "91e54e41bdf26b67",
   "outputs": [],
   "execution_count": 162
  },
  {
   "metadata": {
    "ExecuteTime": {
     "end_time": "2025-05-11T20:39:57.066346Z",
     "start_time": "2025-05-11T20:39:57.042374Z"
    }
   },
   "cell_type": "code",
   "source": [
    "conn.rollback()\n",
    "with conn.cursor() as cur:\n",
    "    cur.execute(\"\"\"\n",
    "    UPDATE fact_grades\n",
    "   SET grades = regexp_replace(\n",
    "                  grades,\n",
    "                  '^[\\\\s\"]+|[\\\\s\"]+$',\n",
    "                  '',\n",
    "                  'g'\n",
    "                );\n",
    "\"\"\")\n",
    "\n",
    "\n",
    "conn.commit()"
   ],
   "id": "26851c936bcadae7",
   "outputs": [],
   "execution_count": 178
  },
  {
   "metadata": {},
   "cell_type": "markdown",
   "source": "# DWH querying",
   "id": "c2bfc663533c0267"
  },
  {
   "metadata": {
    "ExecuteTime": {
     "end_time": "2025-05-11T15:29:09.050731Z",
     "start_time": "2025-05-11T15:29:09.036864Z"
    }
   },
   "cell_type": "code",
   "source": [
    "#pandas prefers you pass it an SQLAlchemy engine, got warnings\n",
    "from sqlalchemy import create_engine\n",
    "engine = create_engine(\n",
    "    \"postgresql+psycopg2://postgres@localhost:5432/dwh_db\"\n",
    ")"
   ],
   "id": "b3cccaf0b482b9b8",
   "outputs": [],
   "execution_count": 154
  },
  {
   "metadata": {},
   "cell_type": "markdown",
   "source": [
    "Average grade of each student name by lecturer name, including the average grade\n",
    "of all students and the average grade of each lecturer."
   ],
   "id": "e3387e9026ad3972"
  },
  {
   "metadata": {
    "ExecuteTime": {
     "end_time": "2025-05-11T21:17:45.340082Z",
     "start_time": "2025-05-11T21:17:45.310985Z"
    }
   },
   "cell_type": "code",
   "source": [
    "sql=\"\"\"\n",
    "select ds.student_name , dl.lecturer_name,\n",
    "       avg(fg.grades) as avg_grade\n",
    "from fact_grades as fg\n",
    "join dim_student ds on fg.student_key=ds.student_key\n",
    "join dim_lecturer dl on fg.lecturer_key=dl.lecturer_key\n",
    "WHERE grades != 'NaN'\n",
    "group by cube (ds.student_name, dl.lecturer_name)\n",
    "\n",
    "\n",
    "\"\"\"\n",
    "\n",
    "df = pd.read_sql(sql, con=engine)\n",
    "\n",
    "pivot = df.pivot_table(\n",
    "  index=\"student_name\",\n",
    "  columns=\"lecturer_name\",\n",
    "  values=\"avg_grade\",\n",
    "  aggfunc=\"mean\",\n",
    "  margins=True,         # adds the “All” row & column\n",
    "  margins_name=\"All\"\n",
    ")\n",
    "display(pivot)"
   ],
   "id": "7daa1595cd251beb",
   "outputs": [
    {
     "data": {
      "text/plain": [
       "lecturer_name      Dragi Kimovski  Johann Eder  Julius Köpke  \\\n",
       "student_name                                                   \n",
       "Amelie Engel                  NaN     5.000000      2.000000   \n",
       "Amelie Meier             2.000000          NaN      2.500000   \n",
       "Amely Horn                    NaN          NaN      5.000000   \n",
       "Amely Lehmann            3.000000          NaN      2.000000   \n",
       "Anna Becker                   NaN          NaN      3.000000   \n",
       "...                           ...          ...           ...   \n",
       "Sophie Zimmermann             NaN          NaN      3.000000   \n",
       "Tim Peters               1.000000          NaN      2.500000   \n",
       "Timm Lang                     NaN          NaN      3.500000   \n",
       "Yannick Lorenz                NaN          NaN      2.500000   \n",
       "All                      2.933333     2.407407      2.776667   \n",
       "\n",
       "lecturer_name      Klaus Schöffmann       All  \n",
       "student_name                                   \n",
       "Amelie Engel                    NaN  3.500000  \n",
       "Amelie Meier                    NaN  2.250000  \n",
       "Amely Horn                   3.0000  4.000000  \n",
       "Amely Lehmann                   NaN  2.500000  \n",
       "Anna Becker                     NaN  3.000000  \n",
       "...                             ...       ...  \n",
       "Sophie Zimmermann            2.0000  2.500000  \n",
       "Tim Peters                      NaN  1.750000  \n",
       "Timm Lang                    2.0000  2.750000  \n",
       "Yannick Lorenz               1.0000  1.750000  \n",
       "All                          3.4375  2.905691  \n",
       "\n",
       "[101 rows x 5 columns]"
      ],
      "text/html": [
       "<div>\n",
       "<style scoped>\n",
       "    .dataframe tbody tr th:only-of-type {\n",
       "        vertical-align: middle;\n",
       "    }\n",
       "\n",
       "    .dataframe tbody tr th {\n",
       "        vertical-align: top;\n",
       "    }\n",
       "\n",
       "    .dataframe thead th {\n",
       "        text-align: right;\n",
       "    }\n",
       "</style>\n",
       "<table border=\"1\" class=\"dataframe\">\n",
       "  <thead>\n",
       "    <tr style=\"text-align: right;\">\n",
       "      <th>lecturer_name</th>\n",
       "      <th>Dragi Kimovski</th>\n",
       "      <th>Johann Eder</th>\n",
       "      <th>Julius Köpke</th>\n",
       "      <th>Klaus Schöffmann</th>\n",
       "      <th>All</th>\n",
       "    </tr>\n",
       "    <tr>\n",
       "      <th>student_name</th>\n",
       "      <th></th>\n",
       "      <th></th>\n",
       "      <th></th>\n",
       "      <th></th>\n",
       "      <th></th>\n",
       "    </tr>\n",
       "  </thead>\n",
       "  <tbody>\n",
       "    <tr>\n",
       "      <th>Amelie Engel</th>\n",
       "      <td>NaN</td>\n",
       "      <td>5.000000</td>\n",
       "      <td>2.000000</td>\n",
       "      <td>NaN</td>\n",
       "      <td>3.500000</td>\n",
       "    </tr>\n",
       "    <tr>\n",
       "      <th>Amelie Meier</th>\n",
       "      <td>2.000000</td>\n",
       "      <td>NaN</td>\n",
       "      <td>2.500000</td>\n",
       "      <td>NaN</td>\n",
       "      <td>2.250000</td>\n",
       "    </tr>\n",
       "    <tr>\n",
       "      <th>Amely Horn</th>\n",
       "      <td>NaN</td>\n",
       "      <td>NaN</td>\n",
       "      <td>5.000000</td>\n",
       "      <td>3.0000</td>\n",
       "      <td>4.000000</td>\n",
       "    </tr>\n",
       "    <tr>\n",
       "      <th>Amely Lehmann</th>\n",
       "      <td>3.000000</td>\n",
       "      <td>NaN</td>\n",
       "      <td>2.000000</td>\n",
       "      <td>NaN</td>\n",
       "      <td>2.500000</td>\n",
       "    </tr>\n",
       "    <tr>\n",
       "      <th>Anna Becker</th>\n",
       "      <td>NaN</td>\n",
       "      <td>NaN</td>\n",
       "      <td>3.000000</td>\n",
       "      <td>NaN</td>\n",
       "      <td>3.000000</td>\n",
       "    </tr>\n",
       "    <tr>\n",
       "      <th>...</th>\n",
       "      <td>...</td>\n",
       "      <td>...</td>\n",
       "      <td>...</td>\n",
       "      <td>...</td>\n",
       "      <td>...</td>\n",
       "    </tr>\n",
       "    <tr>\n",
       "      <th>Sophie Zimmermann</th>\n",
       "      <td>NaN</td>\n",
       "      <td>NaN</td>\n",
       "      <td>3.000000</td>\n",
       "      <td>2.0000</td>\n",
       "      <td>2.500000</td>\n",
       "    </tr>\n",
       "    <tr>\n",
       "      <th>Tim Peters</th>\n",
       "      <td>1.000000</td>\n",
       "      <td>NaN</td>\n",
       "      <td>2.500000</td>\n",
       "      <td>NaN</td>\n",
       "      <td>1.750000</td>\n",
       "    </tr>\n",
       "    <tr>\n",
       "      <th>Timm Lang</th>\n",
       "      <td>NaN</td>\n",
       "      <td>NaN</td>\n",
       "      <td>3.500000</td>\n",
       "      <td>2.0000</td>\n",
       "      <td>2.750000</td>\n",
       "    </tr>\n",
       "    <tr>\n",
       "      <th>Yannick Lorenz</th>\n",
       "      <td>NaN</td>\n",
       "      <td>NaN</td>\n",
       "      <td>2.500000</td>\n",
       "      <td>1.0000</td>\n",
       "      <td>1.750000</td>\n",
       "    </tr>\n",
       "    <tr>\n",
       "      <th>All</th>\n",
       "      <td>2.933333</td>\n",
       "      <td>2.407407</td>\n",
       "      <td>2.776667</td>\n",
       "      <td>3.4375</td>\n",
       "      <td>2.905691</td>\n",
       "    </tr>\n",
       "  </tbody>\n",
       "</table>\n",
       "<p>101 rows × 5 columns</p>\n",
       "</div>"
      ]
     },
     "metadata": {},
     "output_type": "display_data"
    }
   ],
   "execution_count": 184
  },
  {
   "metadata": {},
   "cell_type": "markdown",
   "source": [
    "Average grade by the StudyPlan type and the department of the lecturer. Also\n",
    "include average grade per department and average grade per study plan type.\n"
   ],
   "id": "f4aebad254f88d5e"
  },
  {
   "metadata": {
    "ExecuteTime": {
     "end_time": "2025-05-11T21:16:24.762846Z",
     "start_time": "2025-05-11T21:16:24.669172Z"
    }
   },
   "cell_type": "code",
   "source": [
    "sql=\"\"\"\n",
    "select\n",
    "    dsp.sp_type as study_plan,\n",
    "   dd.dept_code as lecturer_department,\n",
    "       avg(fg.grades) as avg_grades\n",
    "from fact_grades fg\n",
    "join dim_student ds on ds.student_key=fg.student_key\n",
    "join dim_study_plan dsp on ds.sp_key=dsp.sp_key\n",
    "join dim_lecturer dl on dl.lecturer_key=fg.lecturer_key\n",
    "join dim_department dd on dd.dept_key=dl.lecturer_dept\n",
    "WHERE grades != 'NaN'\n",
    "group by cube (dsp.sp_type, dd.dept_code)\n",
    "\"\"\"\n",
    "\n",
    "df=pd.read_sql(sql,con=engine)\n",
    "pivot=df.pivot_table(\n",
    "    index=\"study_plan\",\n",
    "    columns=\"lecturer_department\",\n",
    "    values=\"avg_grades\",\n",
    "    aggfunc=\"mean\",\n",
    "    margins=True, margins_name=\"All\"\n",
    "\n",
    ")\n",
    "display(pivot)"
   ],
   "id": "6cdfb74d32fe80fe",
   "outputs": [
    {
     "data": {
      "text/plain": [
       "lecturer_department      ISYS      ITEC       All\n",
       "study_plan                                       \n",
       "bachelor             3.096154  3.437500  3.266827\n",
       "master               2.469388  2.933333  2.701361\n",
       "All                  2.782771  3.185417  2.984094"
      ],
      "text/html": [
       "<div>\n",
       "<style scoped>\n",
       "    .dataframe tbody tr th:only-of-type {\n",
       "        vertical-align: middle;\n",
       "    }\n",
       "\n",
       "    .dataframe tbody tr th {\n",
       "        vertical-align: top;\n",
       "    }\n",
       "\n",
       "    .dataframe thead th {\n",
       "        text-align: right;\n",
       "    }\n",
       "</style>\n",
       "<table border=\"1\" class=\"dataframe\">\n",
       "  <thead>\n",
       "    <tr style=\"text-align: right;\">\n",
       "      <th>lecturer_department</th>\n",
       "      <th>ISYS</th>\n",
       "      <th>ITEC</th>\n",
       "      <th>All</th>\n",
       "    </tr>\n",
       "    <tr>\n",
       "      <th>study_plan</th>\n",
       "      <th></th>\n",
       "      <th></th>\n",
       "      <th></th>\n",
       "    </tr>\n",
       "  </thead>\n",
       "  <tbody>\n",
       "    <tr>\n",
       "      <th>bachelor</th>\n",
       "      <td>3.096154</td>\n",
       "      <td>3.437500</td>\n",
       "      <td>3.266827</td>\n",
       "    </tr>\n",
       "    <tr>\n",
       "      <th>master</th>\n",
       "      <td>2.469388</td>\n",
       "      <td>2.933333</td>\n",
       "      <td>2.701361</td>\n",
       "    </tr>\n",
       "    <tr>\n",
       "      <th>All</th>\n",
       "      <td>2.782771</td>\n",
       "      <td>3.185417</td>\n",
       "      <td>2.984094</td>\n",
       "    </tr>\n",
       "  </tbody>\n",
       "</table>\n",
       "</div>"
      ]
     },
     "metadata": {},
     "output_type": "display_data"
    }
   ],
   "execution_count": 181
  },
  {
   "metadata": {},
   "cell_type": "markdown",
   "source": [
    "Average grade of students of each lecturer. Now also include the average grades of\n",
    "each member of the hierarchy: lecturer  Department  University"
   ],
   "id": "dab5d8cd8782dc49"
  },
  {
   "metadata": {
    "ExecuteTime": {
     "end_time": "2025-05-12T08:52:24.798640Z",
     "start_time": "2025-05-12T08:52:24.748565Z"
    }
   },
   "cell_type": "code",
   "source": [
    "sql=(\"\"\"\n",
    "select\n",
    "  COALESCE(dl.lecturer_name, 'All Lecturers')  AS lecturer_name,\n",
    "  COALESCE(dd.dept_code,      'All Departments') AS lecturer_dept,\n",
    "  COALESCE(du.name,           'All Universities') AS university_name,\n",
    "  AVG(fg.grades::NUMERIC)          AS avg_grade\n",
    "from fact_grades fg\n",
    "join dim_lecturer  dl on fg.lecturer_key = dl.lecturer_key\n",
    "join dim_department dd on dl.lecturer_dept = dd.dept_key\n",
    "join dim_university du on dd.uni_key        = du.uni_key\n",
    "where fg.grades != 'NaN'\n",
    "group by rollup(\n",
    "\n",
    "    du.name,\n",
    "    dd.dept_code,\n",
    "    dl.lecturer_name\n",
    "\n",
    ")\n",
    "\"\"\")\n",
    "\n",
    "pd.read_sql(sql,con=engine)\n"
   ],
   "id": "2e68c6171e6dee15",
   "outputs": [
    {
     "data": {
      "text/plain": [
       "      lecturer_name    lecturer_dept         university_name  avg_grade\n",
       "0     All Lecturers  All Departments        All Universities   2.917857\n",
       "1    Dragi Kimovski             ITEC  Universität Klagenfurt   2.933333\n",
       "2       Johann Eder             ISYS  Universität Klagenfurt   2.407407\n",
       "3      Julius Köpke             ISYS  Universität Klagenfurt   2.851429\n",
       "4  Klaus Schöffmann             ITEC  Universität Klagenfurt   3.437500\n",
       "5     All Lecturers             ITEC  Universität Klagenfurt   3.243590\n",
       "6     All Lecturers             ISYS  Universität Klagenfurt   2.792079\n",
       "7     All Lecturers  All Departments  Universität Klagenfurt   2.917857"
      ],
      "text/html": [
       "<div>\n",
       "<style scoped>\n",
       "    .dataframe tbody tr th:only-of-type {\n",
       "        vertical-align: middle;\n",
       "    }\n",
       "\n",
       "    .dataframe tbody tr th {\n",
       "        vertical-align: top;\n",
       "    }\n",
       "\n",
       "    .dataframe thead th {\n",
       "        text-align: right;\n",
       "    }\n",
       "</style>\n",
       "<table border=\"1\" class=\"dataframe\">\n",
       "  <thead>\n",
       "    <tr style=\"text-align: right;\">\n",
       "      <th></th>\n",
       "      <th>lecturer_name</th>\n",
       "      <th>lecturer_dept</th>\n",
       "      <th>university_name</th>\n",
       "      <th>avg_grade</th>\n",
       "    </tr>\n",
       "  </thead>\n",
       "  <tbody>\n",
       "    <tr>\n",
       "      <th>0</th>\n",
       "      <td>All Lecturers</td>\n",
       "      <td>All Departments</td>\n",
       "      <td>All Universities</td>\n",
       "      <td>2.917857</td>\n",
       "    </tr>\n",
       "    <tr>\n",
       "      <th>1</th>\n",
       "      <td>Dragi Kimovski</td>\n",
       "      <td>ITEC</td>\n",
       "      <td>Universität Klagenfurt</td>\n",
       "      <td>2.933333</td>\n",
       "    </tr>\n",
       "    <tr>\n",
       "      <th>2</th>\n",
       "      <td>Johann Eder</td>\n",
       "      <td>ISYS</td>\n",
       "      <td>Universität Klagenfurt</td>\n",
       "      <td>2.407407</td>\n",
       "    </tr>\n",
       "    <tr>\n",
       "      <th>3</th>\n",
       "      <td>Julius Köpke</td>\n",
       "      <td>ISYS</td>\n",
       "      <td>Universität Klagenfurt</td>\n",
       "      <td>2.851429</td>\n",
       "    </tr>\n",
       "    <tr>\n",
       "      <th>4</th>\n",
       "      <td>Klaus Schöffmann</td>\n",
       "      <td>ITEC</td>\n",
       "      <td>Universität Klagenfurt</td>\n",
       "      <td>3.437500</td>\n",
       "    </tr>\n",
       "    <tr>\n",
       "      <th>5</th>\n",
       "      <td>All Lecturers</td>\n",
       "      <td>ITEC</td>\n",
       "      <td>Universität Klagenfurt</td>\n",
       "      <td>3.243590</td>\n",
       "    </tr>\n",
       "    <tr>\n",
       "      <th>6</th>\n",
       "      <td>All Lecturers</td>\n",
       "      <td>ISYS</td>\n",
       "      <td>Universität Klagenfurt</td>\n",
       "      <td>2.792079</td>\n",
       "    </tr>\n",
       "    <tr>\n",
       "      <th>7</th>\n",
       "      <td>All Lecturers</td>\n",
       "      <td>All Departments</td>\n",
       "      <td>Universität Klagenfurt</td>\n",
       "      <td>2.917857</td>\n",
       "    </tr>\n",
       "  </tbody>\n",
       "</table>\n",
       "</div>"
      ]
     },
     "execution_count": 195,
     "metadata": {},
     "output_type": "execute_result"
    }
   ],
   "execution_count": 195
  },
  {
   "metadata": {},
   "cell_type": "code",
   "outputs": [],
   "execution_count": null,
   "source": "",
   "id": "d52aef3e29c717a"
  }
 ],
 "metadata": {
  "kernelspec": {
   "display_name": "Python 3",
   "language": "python",
   "name": "python3"
  },
  "language_info": {
   "codemirror_mode": {
    "name": "ipython",
    "version": 2
   },
   "file_extension": ".py",
   "mimetype": "text/x-python",
   "name": "python",
   "nbconvert_exporter": "python",
   "pygments_lexer": "ipython2",
   "version": "2.7.6"
  }
 },
 "nbformat": 4,
 "nbformat_minor": 5
}
